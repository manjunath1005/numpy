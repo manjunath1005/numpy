{
  "nbformat": 4,
  "nbformat_minor": 0,
  "metadata": {
    "colab": {
      "provenance": [],
      "authorship_tag": "ABX9TyMxGTFxu7lbYZgVJAqPR7s/",
      "include_colab_link": true
    },
    "kernelspec": {
      "name": "python3",
      "display_name": "Python 3"
    },
    "language_info": {
      "name": "python"
    }
  },
  "cells": [
    {
      "cell_type": "markdown",
      "metadata": {
        "id": "view-in-github",
        "colab_type": "text"
      },
      "source": [
        "<a href=\"https://colab.research.google.com/github/manjunath1005/numpy/blob/main/numpy.ipynb\" target=\"_parent\"><img src=\"https://colab.research.google.com/assets/colab-badge.svg\" alt=\"Open In Colab\"/></a>"
      ]
    },
    {
      "cell_type": "code",
      "execution_count": 1,
      "metadata": {
        "colab": {
          "base_uri": "https://localhost:8080/"
        },
        "id": "xYeCgKP1CvYl",
        "outputId": "a9547fa7-52d9-4323-b3ad-d9e6e0798314"
      },
      "outputs": [
        {
          "output_type": "stream",
          "name": "stdout",
          "text": [
            "Requirement already satisfied: numpy in /usr/local/lib/python3.12/dist-packages (2.0.2)\n"
          ]
        }
      ],
      "source": [
        "pip install numpy"
      ]
    },
    {
      "cell_type": "code",
      "source": [
        "import numpy as np"
      ],
      "metadata": {
        "id": "SRRE3jYSDGQN"
      },
      "execution_count": 2,
      "outputs": []
    },
    {
      "cell_type": "code",
      "source": [
        "arr_1d=np.array([1,2,3])\n",
        "print(arr_1d)"
      ],
      "metadata": {
        "colab": {
          "base_uri": "https://localhost:8080/"
        },
        "id": "pyMdvdYzDOMX",
        "outputId": "26cf3912-7167-47e4-af67-2c5c6c2e6fc7"
      },
      "execution_count": 12,
      "outputs": [
        {
          "output_type": "stream",
          "name": "stdout",
          "text": [
            "[1 2 3]\n"
          ]
        }
      ]
    },
    {
      "cell_type": "code",
      "source": [
        "arr_2d=np.array([[1,2,3],[4,5,6]])\n",
        "print(arr_2d)"
      ],
      "metadata": {
        "colab": {
          "base_uri": "https://localhost:8080/"
        },
        "id": "JH7fg_UgEJQI",
        "outputId": "aa4bd856-560a-416a-b56f-83ba9e611622"
      },
      "execution_count": 9,
      "outputs": [
        {
          "output_type": "stream",
          "name": "stdout",
          "text": [
            "[[1 2 3]\n",
            " [4 5 6]]\n"
          ]
        }
      ]
    },
    {
      "cell_type": "code",
      "source": [
        "arr_3d=np.array([[1,2,3],[4,5,6],[7,8,9]])\n",
        "print(arr_3d)"
      ],
      "metadata": {
        "colab": {
          "base_uri": "https://localhost:8080/"
        },
        "id": "WFG99tNHEPOJ",
        "outputId": "4ca294ae-581d-46c1-9153-ec3b72858cc2"
      },
      "execution_count": 10,
      "outputs": [
        {
          "output_type": "stream",
          "name": "stdout",
          "text": [
            "[[1 2 3]\n",
            " [4 5 6]\n",
            " [7 8 9]]\n"
          ]
        }
      ]
    },
    {
      "cell_type": "code",
      "source": [
        "ones=np.ones((2,7))\n",
        "print(ones)"
      ],
      "metadata": {
        "colab": {
          "base_uri": "https://localhost:8080/"
        },
        "id": "C1py1x6oGSoA",
        "outputId": "e6e20002-45ca-447e-fd60-ed3674468993"
      },
      "execution_count": 13,
      "outputs": [
        {
          "output_type": "stream",
          "name": "stdout",
          "text": [
            "[[1. 1. 1. 1. 1. 1. 1.]\n",
            " [1. 1. 1. 1. 1. 1. 1.]]\n"
          ]
        }
      ]
    },
    {
      "cell_type": "code",
      "source": [
        "random_arr=np.random.random((2,2))\n",
        "print(random_arr)"
      ],
      "metadata": {
        "colab": {
          "base_uri": "https://localhost:8080/"
        },
        "id": "eLIFSuUSHBIs",
        "outputId": "9743fc35-bb4b-4ee9-eca7-073c97ec7d80"
      },
      "execution_count": 14,
      "outputs": [
        {
          "output_type": "stream",
          "name": "stdout",
          "text": [
            "[[0.02617084 0.05940606]\n",
            " [0.71953125 0.45336358]]\n"
          ]
        }
      ]
    },
    {
      "cell_type": "code",
      "source": [
        "identity=np.eye(3)\n",
        "print(identity)"
      ],
      "metadata": {
        "colab": {
          "base_uri": "https://localhost:8080/"
        },
        "id": "MLOaWqaEHG5w",
        "outputId": "8fb119dd-2f73-4c0c-b1c3-1d46c4a954f3"
      },
      "execution_count": 15,
      "outputs": [
        {
          "output_type": "stream",
          "name": "stdout",
          "text": [
            "[[1. 0. 0.]\n",
            " [0. 1. 0.]\n",
            " [0. 0. 1.]]\n"
          ]
        }
      ]
    },
    {
      "cell_type": "code",
      "source": [
        "range_arr=np.arange(0,10,2)\n",
        "print(range_arr)"
      ],
      "metadata": {
        "colab": {
          "base_uri": "https://localhost:8080/"
        },
        "id": "C1LJ2uQ1Hr14",
        "outputId": "168784e4-a905-4763-9f37-0a08a63656d6"
      },
      "execution_count": 17,
      "outputs": [
        {
          "output_type": "stream",
          "name": "stdout",
          "text": [
            "[0 2 4 6 8]\n"
          ]
        }
      ]
    },
    {
      "cell_type": "code",
      "source": [
        "arr=np.linspace(1,5,9)\n",
        "print(arr)"
      ],
      "metadata": {
        "colab": {
          "base_uri": "https://localhost:8080/"
        },
        "id": "d81Bv1ekIn0b",
        "outputId": "add37152-78a4-4e63-a070-47b80f5ac350"
      },
      "execution_count": 20,
      "outputs": [
        {
          "output_type": "stream",
          "name": "stdout",
          "text": [
            "[1.  1.5 2.  2.5 3.  3.5 4.  4.5 5. ]\n"
          ]
        }
      ]
    },
    {
      "cell_type": "code",
      "source": [
        "arr=np.array([[1,2,3],[4,5,6]])\n",
        "print(arr)\n",
        "print(\"Size:\",arr.size)\n",
        "print(\"Shape:\",arr.shape)\n",
        "print(\"Data Type:\",arr.dtype)\n",
        "print(\"Number of dimensions:\",arr.ndim)"
      ],
      "metadata": {
        "colab": {
          "base_uri": "https://localhost:8080/"
        },
        "id": "VQMm_NblIJ7f",
        "outputId": "b2ba5ccf-bfa3-474a-9375-1c51751240d8"
      },
      "execution_count": 19,
      "outputs": [
        {
          "output_type": "stream",
          "name": "stdout",
          "text": [
            "[[1 2 3]\n",
            " [4 5 6]]\n",
            "Size: 6\n",
            "Shape: (2, 3)\n",
            "Data Type: int64\n",
            "Number of dimensions: 2\n"
          ]
        }
      ]
    },
    {
      "cell_type": "markdown",
      "source": [
        "You are working as a Data Engineer for a smart agriculture startup that collects sensor data from multiple greenhouses.\n",
        "Each greenhouse has sensors that record temperature (°C) readings at different times of the day.\n",
        "You received the following data:\n",
        "Your tasks are:\n",
        "Create NumPy arrays\n",
        "Create a 2D NumPy array named temp_data to represent the temperature readings from both greenhouses.\n",
        "Print the array.\n",
        "Check array properties\n",
        "Print the shape, size, data type, and number of dimensions of temp_data.\n",
        "Add a third greenhouse\n",
        "The third greenhouse (GH3) records [21, 23, 22].\n",
        "Create a new array updated_temp_data that includes all three greenhouses.\n",
        "Generate supporting data\n",
        "Create a zeros array (2×3) called sensor_error_flags to represent whether there were any sensor errors (0 means no error).\n",
        "Create an identity matrix of size 3×3 named greenhouse_identity to uniquely identify each greenhouse.\n",
        "Display all arrays\n",
        "Print updated_temp_data, sensor_error_flags, and greenhouse_identity"
      ],
      "metadata": {
        "id": "uXVBxtJQOSxG"
      }
    },
    {
      "cell_type": "code",
      "source": [
        "temp_data=np.array([[30,28,20],[32,35,27]])\n",
        "print(temp_data)\n",
        "print(\"Shape:\",temp_data.shape)\n",
        "print(\"Size:\",temp_data.size)\n",
        "print(\"Data Type:\",temp_data.dtype)\n",
        "print(\"Dimensions:\",temp_data.ndim)"
      ],
      "metadata": {
        "colab": {
          "base_uri": "https://localhost:8080/"
        },
        "id": "pvpaynjdJSky",
        "outputId": "7e601c39-4f6c-454f-f4d7-e189539a636a"
      },
      "execution_count": 27,
      "outputs": [
        {
          "output_type": "stream",
          "name": "stdout",
          "text": [
            "[[30 28 20]\n",
            " [32 35 27]]\n",
            "Shape: (2, 3)\n",
            "Size: 6\n",
            "Data Type: int64\n",
            "Dimensions: 2\n"
          ]
        }
      ]
    },
    {
      "cell_type": "code",
      "source": [
        "third_greenhouse=np.array([[21,23,22]])\n",
        "updated_temp_data=np.append(temp_data,third_greenhouse,axis=0)\n",
        "print(updated_temp_data)"
      ],
      "metadata": {
        "colab": {
          "base_uri": "https://localhost:8080/"
        },
        "id": "hUgNarHuKHWI",
        "outputId": "ceffeedc-a9a1-4b91-c9a3-f32b27303120"
      },
      "execution_count": 32,
      "outputs": [
        {
          "output_type": "stream",
          "name": "stdout",
          "text": [
            "[[30 28 20]\n",
            " [32 35 27]\n",
            " [21 23 22]]\n"
          ]
        }
      ]
    },
    {
      "cell_type": "code",
      "source": [
        "sensor_error_flags=np.zeros((2,3))\n",
        "print(sensor_error_flags)\n",
        "greenhouse_identity=np.eye(3)\n",
        "print(greenhouse_identity)"
      ],
      "metadata": {
        "colab": {
          "base_uri": "https://localhost:8080/"
        },
        "id": "2haWA9jJMquw",
        "outputId": "18f8c4e4-66dd-4cd8-9ea7-03525c933dd2"
      },
      "execution_count": 41,
      "outputs": [
        {
          "output_type": "stream",
          "name": "stdout",
          "text": [
            "[[0. 0. 0.]\n",
            " [0. 0. 0.]]\n",
            "[[1. 0. 0.]\n",
            " [0. 1. 0.]\n",
            " [0. 0. 1.]]\n"
          ]
        }
      ]
    },
    {
      "cell_type": "code",
      "source": [
        "print(\"Updated_temp_data:\\n\",updated_temp_data)\n",
        "print(\"Sensor_error_flag:\\n\",sensor_error_flags)\n",
        "print(\"greenhouse_identity:\\n\",greenhouse_identity)"
      ],
      "metadata": {
        "colab": {
          "base_uri": "https://localhost:8080/"
        },
        "id": "ml5BOVSINbKy",
        "outputId": "8bb327e9-530b-4bc7-d9e2-2f10e79be19e"
      },
      "execution_count": 42,
      "outputs": [
        {
          "output_type": "stream",
          "name": "stdout",
          "text": [
            "Updated_temp_data:\n",
            " [[30 28 20]\n",
            " [32 35 27]\n",
            " [21 23 22]]\n",
            "Sensor_error_flag:\n",
            " [[0. 0. 0.]\n",
            " [0. 0. 0.]]\n",
            "greenhouse_identity:\n",
            " [[1. 0. 0.]\n",
            " [0. 1. 0.]\n",
            " [0. 0. 1.]]\n"
          ]
        }
      ]
    },
    {
      "cell_type": "markdown",
      "source": [
        "Indexing and Slicing:\n",
        "You are working as a Data Analyst at a fruit distribution company.\n",
        "The company stores the number of fruit boxes shipped per day (for 1 week) in a 2D NumPy array where:\n",
        "Each row represents a type of fruit.\n",
        "Each column represents a day of the week (Mon–Sun).\n",
        "\n",
        "\n",
        "Your Tasks\n",
        "Create the 2D NumPy array\n",
        "Create an array named shipments using the above data.\n",
        "Access single elements (Indexing):\n",
        "Get the number of Apples shipped on Wednesday.\n",
        "Get the number of Oranges shipped on Sunday.\n",
        "Access multiple elements (Slicing):\n",
        "Extract all the weekday shipments (Mon–Fri) for all fruits.\n",
        "Extract only the weekend shipments (Sat & Sun).\n",
        "Extract the shipments of Apples from Wednesday to Saturday.\n",
        "Bonus (Practice thinking):\n",
        "Replace the Saturday shipment of Apples (currently 80) with 100 using indexing."
      ],
      "metadata": {
        "id": "n3Pjz0fFOeXO"
      }
    },
    {
      "cell_type": "code",
      "source": [
        "shipments=np.array([[200,300,150,400,200,80,600],[100,150,130,200,250,200,150]])"
      ],
      "metadata": {
        "id": "gZwEDqAoOk3m"
      },
      "execution_count": 55,
      "outputs": []
    },
    {
      "cell_type": "code",
      "source": [
        "print(\"No.of Apples Shipped on Wednesday:\",shipments[0][2])\n",
        "print(\"No.of Oranges Shipped on Sunday:\",shipments[1][6])"
      ],
      "metadata": {
        "colab": {
          "base_uri": "https://localhost:8080/"
        },
        "id": "FzzLLquIP0Ii",
        "outputId": "b2c6e25c-8ca5-4606-ef1c-bd3632b1cd85"
      },
      "execution_count": 56,
      "outputs": [
        {
          "output_type": "stream",
          "name": "stdout",
          "text": [
            "No.of Apples Shipped on Wednesday: 150\n",
            "No.of Oranges Shipped on Sunday: 150\n"
          ]
        }
      ]
    },
    {
      "cell_type": "code",
      "source": [
        "print(\"weekday shipments (Mon–Fri) for all fruits:\\nApples:\",shipments[0][:5],\"\\nOranges:\",shipments[1][:5])\n",
        "print(\"Weekend Shipments(Sat & Sun):\\nApples:\",shipments[0][5:7],\"\\nOranges:\",shipments[1][5:7])\n",
        "print(\"shipments of Apples from Wednesday to Saturday:\",shipments[0][3:6])"
      ],
      "metadata": {
        "colab": {
          "base_uri": "https://localhost:8080/"
        },
        "id": "17-q2u1cQpun",
        "outputId": "975620db-2740-4fd5-e636-83acd3f841c3"
      },
      "execution_count": 57,
      "outputs": [
        {
          "output_type": "stream",
          "name": "stdout",
          "text": [
            "weekday shipments (Mon–Fri) for all fruits:\n",
            "Apples: [200 300 150 400 200] \n",
            "Oranges: [100 150 130 200 250]\n",
            "Weekend Shipments(Sat & Sun):\n",
            "Apples: [ 80 600] \n",
            "Oranges: [200 150]\n",
            "shipments of Apples from Wednesday to Saturday: [400 200  80]\n"
          ]
        }
      ]
    },
    {
      "cell_type": "code",
      "source": [
        "shipments[0][5]=100\n",
        "print(\"Updated Details of Apples Shipment on Sat:\",shipments[0,5])"
      ],
      "metadata": {
        "colab": {
          "base_uri": "https://localhost:8080/"
        },
        "id": "W1vD_WnER7At",
        "outputId": "d5a1346d-205a-4993-c5bb-a73e346570ef"
      },
      "execution_count": 59,
      "outputs": [
        {
          "output_type": "stream",
          "name": "stdout",
          "text": [
            "Updated Details of Apples Shipment on Sat: 100\n"
          ]
        }
      ]
    },
    {
      "cell_type": "markdown",
      "source": [
        "Array operations\n"
      ],
      "metadata": {
        "id": "iTKw2iY5XqdT"
      }
    },
    {
      "cell_type": "code",
      "source": [
        "#arithmetic\n",
        "a=np.array([1,2,3])\n",
        "b=np.array([4,5,6])\n",
        "\n",
        "print(a+b)\n",
        "print(a*b)\n",
        "print(a*2)\n",
        "print(np.dot(a,b))\n",
        "\n",
        "#matrixMultiplication\n",
        "mat1=np.array([[1,2],[3,4]])\n",
        "mat2=np.array([[5,6],[7,8]])\n",
        "result=np.dot(mat1,mat2)\n",
        "print(result)"
      ],
      "metadata": {
        "colab": {
          "base_uri": "https://localhost:8080/"
        },
        "id": "Nloi_x7nXvEc",
        "outputId": "43b10a92-8589-47ba-c965-0d44267d3e90"
      },
      "execution_count": 65,
      "outputs": [
        {
          "output_type": "stream",
          "name": "stdout",
          "text": [
            "[5 7 9]\n",
            "[ 4 10 18]\n",
            "[2 4 6]\n",
            "32\n",
            "[[19 22]\n",
            " [43 50]]\n"
          ]
        }
      ]
    },
    {
      "cell_type": "markdown",
      "source": [
        "Broadcasting"
      ],
      "metadata": {
        "id": "aLJtJo4_ZSzU"
      }
    },
    {
      "cell_type": "code",
      "source": [
        "a=np.array([1,2,3])\n",
        "b=2\n",
        "print(a+b)"
      ],
      "metadata": {
        "colab": {
          "base_uri": "https://localhost:8080/"
        },
        "id": "YtRO-U5rZVT7",
        "outputId": "566263c5-af02-4173-c2a8-f5bdbcfa61e7"
      },
      "execution_count": 64,
      "outputs": [
        {
          "output_type": "stream",
          "name": "stdout",
          "text": [
            "[3 4 5]\n"
          ]
        }
      ]
    },
    {
      "cell_type": "markdown",
      "source": [
        "Universal Functions\n"
      ],
      "metadata": {
        "id": "8g5-aDUXaRez"
      }
    },
    {
      "cell_type": "code",
      "source": [
        "x=np.array([1,2,3])\n",
        "y=np.array([4,5,6])\n",
        "#1. Arithmetic ufuncs\n",
        "print(np.add(x, y))\n",
        "print(np.subtract(x, y))\n",
        "print(np.multiply(x, y))\n",
        "print(np.divide(x, y))\n",
        "print(np.power(x, y))\n",
        "print(np.mod(x, y))"
      ],
      "metadata": {
        "colab": {
          "base_uri": "https://localhost:8080/"
        },
        "id": "oRmFQFveaTeL",
        "outputId": "cb20cfda-2e28-43ba-e5d0-8eff8ba7c82c"
      },
      "execution_count": 69,
      "outputs": [
        {
          "output_type": "stream",
          "name": "stdout",
          "text": [
            "[5 7 9]\n",
            "[-3 -3 -3]\n",
            "[ 4 10 18]\n",
            "[0.25 0.4  0.5 ]\n",
            "[  1  32 729]\n",
            "[1 2 3]\n"
          ]
        }
      ]
    },
    {
      "cell_type": "code",
      "source": [
        "#2. Exponential and Logarithmic ufuncs\n",
        "print(np.exp(x))\n",
        "print(np.log(x))\n",
        "print(np.log10(x))\n",
        "print(np.log2(x))\n",
        "print(np.expm1(x))"
      ],
      "metadata": {
        "colab": {
          "base_uri": "https://localhost:8080/"
        },
        "id": "C8ziTJv6coZI",
        "outputId": "c6f85924-6c84-41ce-cb80-9ff28d570bf9"
      },
      "execution_count": 70,
      "outputs": [
        {
          "output_type": "stream",
          "name": "stdout",
          "text": [
            "[ 2.71828183  7.3890561  20.08553692]\n",
            "[0.         0.69314718 1.09861229]\n",
            "[0.         0.30103    0.47712125]\n",
            "[0.        1.        1.5849625]\n",
            "[ 1.71828183  6.3890561  19.08553692]\n"
          ]
        }
      ]
    },
    {
      "cell_type": "code",
      "source": [
        "#3. Trigonometric ufuncs\n",
        "print(np.sin(x))\n",
        "print(np.cos(x))\n",
        "print(np.tan(x))\n",
        "print(np.arctan(x))\n",
        "print(np.degrees(x))\n",
        "print(np.radians(x))"
      ],
      "metadata": {
        "colab": {
          "base_uri": "https://localhost:8080/"
        },
        "id": "KaLmlJGEcpu6",
        "outputId": "2ac16e8c-5f2b-4d48-9a1f-5e85db757258"
      },
      "execution_count": 188,
      "outputs": [
        {
          "output_type": "stream",
          "name": "stdout",
          "text": [
            "0.1411200080598672\n",
            "-0.9899924966004454\n",
            "-0.1425465430742778\n",
            "1.2490457723982544\n",
            "171.88733853924697\n",
            "0.05235987755982989\n"
          ]
        }
      ]
    },
    {
      "cell_type": "code",
      "source": [
        "#4. Rounding ufuncs\n",
        "\n",
        "print(np.round(x))\n",
        "print(np.floor(x))\n",
        "print(np.ceil(x))\n",
        "print(np.trunc(x))"
      ],
      "metadata": {
        "colab": {
          "base_uri": "https://localhost:8080/"
        },
        "id": "wAEx0IHfcvXq",
        "outputId": "c034b218-adb1-4345-bfb9-9d15f4ec70d7"
      },
      "execution_count": 72,
      "outputs": [
        {
          "output_type": "stream",
          "name": "stdout",
          "text": [
            "[1 2 3]\n",
            "[1. 2. 3.]\n",
            "[1. 2. 3.]\n",
            "[1. 2. 3.]\n"
          ]
        }
      ]
    },
    {
      "cell_type": "code",
      "source": [
        "#5. Statistical ufuncs (Operate along an axis or entire array)\n",
        "print(np.min(x))\n",
        "print(np.max(x))\n",
        "print(np.mean(x))\n",
        "print(np.std(x))\n",
        "print(np.var(x))\n",
        "print(np.sum(x))\n",
        "print(np.prod(x))"
      ],
      "metadata": {
        "colab": {
          "base_uri": "https://localhost:8080/"
        },
        "id": "t3jDtogJcyIC",
        "outputId": "1e667b1f-d2a1-4293-d201-671361e86c2a"
      },
      "execution_count": 73,
      "outputs": [
        {
          "output_type": "stream",
          "name": "stdout",
          "text": [
            "1\n",
            "3\n",
            "2.0\n",
            "0.816496580927726\n",
            "0.6666666666666666\n",
            "6\n",
            "6\n"
          ]
        }
      ]
    },
    {
      "cell_type": "code",
      "source": [
        "#6. Logical ufuncs\n",
        "print(np.logical_and(x, y))\n",
        "print(np.logical_or(x, y))\n",
        "print(np.logical_not(x))\n",
        "print(np.logical_xor(x,y))"
      ],
      "metadata": {
        "colab": {
          "base_uri": "https://localhost:8080/"
        },
        "id": "3ZMcJCzNc3fS",
        "outputId": "299fd84c-cd87-4c60-8845-f380bb6a1481"
      },
      "execution_count": 74,
      "outputs": [
        {
          "output_type": "stream",
          "name": "stdout",
          "text": [
            "[ True  True  True]\n",
            "[ True  True  True]\n",
            "[False False False]\n",
            "[False False False]\n"
          ]
        }
      ]
    },
    {
      "cell_type": "code",
      "source": [
        "#7. Comparison ufuncs (Return Boolean arrays)\n",
        "print(np.greater(x, y))\n",
        "print(np.less(x, y))\n",
        "print(np.equal(x, y))\n",
        "print(np.not_equal(x, y))\n",
        "print(np.greater_equal(x, y))\n",
        "print(np.less_equal(x, y))"
      ],
      "metadata": {
        "colab": {
          "base_uri": "https://localhost:8080/"
        },
        "id": "9JMJl7wec8k6",
        "outputId": "81cf6672-c754-4ae5-8a89-9aec799b46ad"
      },
      "execution_count": 75,
      "outputs": [
        {
          "output_type": "stream",
          "name": "stdout",
          "text": [
            "[False False False]\n",
            "[ True  True  True]\n",
            "[False False False]\n",
            "[ True  True  True]\n",
            "[False False False]\n",
            "[ True  True  True]\n"
          ]
        }
      ]
    },
    {
      "cell_type": "code",
      "source": [
        "x=3\n",
        "y=2\n",
        "#8. Bitwise ufuncs (Operate on integers)\n",
        "print(np.bitwise_and(x, y))\n",
        "print(np.bitwise_or(x, y))\n",
        "print(np.bitwise_xor(x, y))\n",
        "print(np.invert(x))"
      ],
      "metadata": {
        "colab": {
          "base_uri": "https://localhost:8080/"
        },
        "id": "R42cnCuic_KS",
        "outputId": "ea1ac9ea-a8d9-4809-bccb-c909598f883c"
      },
      "execution_count": 76,
      "outputs": [
        {
          "output_type": "stream",
          "name": "stdout",
          "text": [
            "2\n",
            "3\n",
            "1\n",
            "-4\n"
          ]
        }
      ]
    },
    {
      "cell_type": "markdown",
      "source": [
        "You are a data engineer at a renewable-energy company that runs 3 solar farms.\n",
        "Each farm has 4 solar panels, and each panel reports hourly energy production (kWh) for 3 hours during a test window.\n",
        "\n",
        "Given data (raw)\n",
        "Create arrays from these values:\n",
        "production — shape (3 farms × 4 panels × 3 hours) represented as a 2D array per farm (you can stack/create as shown in tasks).\n",
        "Farm A panels (rows = panels, cols = hours):\n",
        "\n",
        "\n",
        "Tasks\n",
        "Create arrays\n",
        "Create three 2D NumPy arrays farmA, farmB, farmC (each shape (4,3)).\n",
        "Stack them into a single 3D array production_all of shape (3, 4, 3).\n",
        "Array attributes\n",
        "Print the .shape, .size, .dtype, and .ndim of production_all.\n",
        "Per-farm totals (arithmetic & aggregation)\n",
        "Use aggregation ufuncs to compute the total energy per farm (sum across panels & hours) → total_per_farm (shape (3,)).\n",
        "Compute mean, std, and var per farm.\n",
        "Per-hour matrix multiplication idea (matrix op)\n",
        "For a quick weighted estimate, create a hour_weights row vector of shape (3,) = [0.5, 1.0, 0.75] (weights for hour1, hour2, hour3).\n",
        "Compute weighted_per_panel by performing a dot product between each farm's panel-row and hour_weights to get per-panel weighted energy. (Use np.dot / matrix multiplication appropriately.)\n",
        "Broadcasting adjustments\n",
        "The operator notices a fixed calibration offset of +0.5 kWh for all panels in Farm B. Use broadcasting to add this offset to Farm B data inside production_all (without recreating whole array manually).\n",
        "Element-wise arithmetic (ufuncs: add/sub/mul/div/power/mod)\n",
        "Compute a normalized version where you:\n",
        "subtract the per-farm mean (use broadcasting),\n",
        "divide by the per-farm std (broadcasting) — i.e., z-score normalize each farm's panel-hour readings.\n",
        "Apply many ufuncs (use the ufuncs listed previously)\n",
        "Apply the following element-wise operations (create variables for each) on the normalized data (or a copy) and show the resulting arrays (or summaries — shape/dtype/first row) where appropriate:\n",
        "Exponential family: np.exp, np.expm1, np.log (note: handle non-positive inputs if needed), np.log10, np.log2.\n",
        "Trigonometric: np.sin, np.cos, np.tan, np.arcsin, np.arccos, np.arctan, plus np.degrees, np.radians applied appropriately.\n",
        "Rounding: np.round, np.floor, np.ceil, np.trunc.\n",
        "Comparison & logical ufuncs: create a boolean mask high_output = production_all > 20 and apply np.logical_and, np.logical_or, np.logical_not, np.logical_xor combining masks (e.g., high_output and even_hours_mask). Also use comparison ufuncs like np.greater_equal, np.less.\n",
        "Bitwise ufuncs (on integer arrays): create an integer array alerts = np.array([[1,0,1],[0,0,1],[1,1,0],[0,1,0]]) for each farm (shape match required) — then apply np.bitwise_and, np.bitwise_or, np.invert where sensible.\n",
        "Arithmetic ufuncs again: np.add, np.subtract, np.multiply, np.divide, np.power, np.mod.\n",
        "Aggregations over ufunc outputs: e.g., np.sum(np.exp(...)), np.mean(np.sin(...)).\n",
        "Broadcast-based summary table\n",
        "Use broadcasting to compute a (3,4) array panel_totals_per_farm = total per panel (sum across hours for each panel), and then compute a (3,) boolean needs_maintenance saying True if any panel in that farm has total < 40. Use np.min, np.max, np.any, np.all.\n",
        "Final KPIs (aggregation)\n",
        "Compute:\n",
        "overall_total (sum of all farms),\n",
        "peak_hour value (max across hours) and which farm & panel produced it (use np.argmax with careful unraveling),\n",
        "average_per_panel across all farms."
      ],
      "metadata": {
        "id": "uJY6Ygd1d92K"
      }
    },
    {
      "cell_type": "code",
      "source": [
        "farmA=np.array([[10,12,11],[9,11,10],[12,13,14],[8,7,9]])\n",
        "farmB=np.array([[20,19,21],[18,20,19],[22,23,21],[17,18,16]])\n",
        "farmC=np.array([[15,16,14],[14,13,15],[16,17,18],[12,11,13]])\n",
        "production_all=np.array([farmA,farmB,farmC],dtype=float)\n",
        "print(production_all)\n",
        "print(\"Shape:\",production_all.shape)\n",
        "print(\"Size:\",production_all.size)\n",
        "print(\"Data Type:\",production_all.dtype)\n",
        "print(\"Dimensions:\",production_all.ndim)"
      ],
      "metadata": {
        "colab": {
          "base_uri": "https://localhost:8080/"
        },
        "id": "XwZMax1rd8fx",
        "outputId": "cef445b4-3b97-4f04-901c-b7216f3ec37e"
      },
      "execution_count": 112,
      "outputs": [
        {
          "output_type": "stream",
          "name": "stdout",
          "text": [
            "[[[10. 12. 11.]\n",
            "  [ 9. 11. 10.]\n",
            "  [12. 13. 14.]\n",
            "  [ 8.  7.  9.]]\n",
            "\n",
            " [[20. 19. 21.]\n",
            "  [18. 20. 19.]\n",
            "  [22. 23. 21.]\n",
            "  [17. 18. 16.]]\n",
            "\n",
            " [[15. 16. 14.]\n",
            "  [14. 13. 15.]\n",
            "  [16. 17. 18.]\n",
            "  [12. 11. 13.]]]\n",
            "Shape: (3, 4, 3)\n",
            "Size: 36\n",
            "Data Type: float64\n",
            "Dimensions: 3\n"
          ]
        }
      ]
    },
    {
      "cell_type": "code",
      "source": [
        "total_per_farm=np.array([np.sum(farmA),np.sum(farmB),np.sum(farmC)])\n",
        "print(\"Total Energy Per Farm:\",total_per_farm)\n",
        "mean_per_farm=np.array([np.mean(farmA),np.mean(farmB),np.mean(farmC)])\n",
        "print(\"Total mean Per Farm:\",mean_per_farm)\n",
        "std_per_farm=np.array([np.std(farmA),np.std(farmB),np.std(farmC)])\n",
        "print(\"Total Standard Deviation Per Farm:\",std_per_farm)\n",
        "var_per_farm=np.array([np.var(farmA),np.var(farmB),np.var(farmC)])\n",
        "print(\"Total Variance Per Farm:\",var_per_farm)"
      ],
      "metadata": {
        "colab": {
          "base_uri": "https://localhost:8080/"
        },
        "id": "-HWRi7azgoda",
        "outputId": "d86e6541-adaf-4ffb-e842-874ae40c8097"
      },
      "execution_count": 106,
      "outputs": [
        {
          "output_type": "stream",
          "name": "stdout",
          "text": [
            "Total Energy Per Farm: [126 234 174]\n",
            "Total mean Per Farm: [10.5 19.5 14.5]\n",
            "Total Standard Deviation Per Farm: [1.97905701 1.97905701 1.97905701]\n",
            "Total Variance Per Farm: [3.91666667 3.91666667 3.91666667]\n"
          ]
        }
      ]
    },
    {
      "cell_type": "code",
      "source": [
        "hour_weights=np.array([0.5,1.0,0.75])\n",
        "print(\"weighted_per_panel of FarmA\",np.dot(farmA,hour_weights))\n",
        "print(\"weighted_per_panel of FarmB\",np.dot(farmB,hour_weights))\n",
        "print(\"weighted_per_panel of FarmC\",np.dot(farmC,hour_weights))"
      ],
      "metadata": {
        "colab": {
          "base_uri": "https://localhost:8080/"
        },
        "id": "BR8U05O4vPLe",
        "outputId": "71ca2ae6-57df-47b9-aaed-47e00d4fe847"
      },
      "execution_count": 104,
      "outputs": [
        {
          "output_type": "stream",
          "name": "stdout",
          "text": [
            "weighted_per_panel of FarmA [25.25 23.   29.5  17.75]\n",
            "weighted_per_panel of FarmB [44.75 43.25 49.75 38.5 ]\n",
            "weighted_per_panel of FarmC [34.   31.25 38.5  26.75]\n"
          ]
        }
      ]
    },
    {
      "cell_type": "code",
      "source": [
        "#fixed calibration offset\n",
        "production_all[1]=production_all[1]+0.5\n",
        "print(production_all)"
      ],
      "metadata": {
        "colab": {
          "base_uri": "https://localhost:8080/"
        },
        "id": "iAYtyILkw5PA",
        "outputId": "b3e506bc-bf24-478b-93dc-4f9b2a255317"
      },
      "execution_count": 113,
      "outputs": [
        {
          "output_type": "stream",
          "name": "stdout",
          "text": [
            "[[[10.  12.  11. ]\n",
            "  [ 9.  11.  10. ]\n",
            "  [12.  13.  14. ]\n",
            "  [ 8.   7.   9. ]]\n",
            "\n",
            " [[20.5 19.5 21.5]\n",
            "  [18.5 20.5 19.5]\n",
            "  [22.5 23.5 21.5]\n",
            "  [17.5 18.5 16.5]]\n",
            "\n",
            " [[15.  16.  14. ]\n",
            "  [14.  13.  15. ]\n",
            "  [16.  17.  18. ]\n",
            "  [12.  11.  13. ]]]\n"
          ]
        }
      ]
    },
    {
      "cell_type": "code",
      "source": [
        "# Reshape mean and std for broadcasting along panels and hours\n",
        "mean_reshaped = mean_per_farm[:, None, None]  # shape (3,1,1)\n",
        "std_reshaped = std_per_farm[:, None, None]    # shape (3,1,1)\n",
        "\n",
        "normalized = (production_all - mean_reshaped) / std_reshaped\n",
        "print(\"Normalized Data:\\n\", normalized)\n"
      ],
      "metadata": {
        "colab": {
          "base_uri": "https://localhost:8080/"
        },
        "id": "D2-ulgU61fDj",
        "outputId": "53a97003-4073-48e7-9d4c-a4a428def4de"
      },
      "execution_count": 114,
      "outputs": [
        {
          "output_type": "stream",
          "name": "stdout",
          "text": [
            "Normalized Data:\n",
            " [[[-0.25264558  0.75793673  0.25264558]\n",
            "  [-0.75793673  0.25264558 -0.25264558]\n",
            "  [ 0.75793673  1.26322788  1.76851903]\n",
            "  [-1.26322788 -1.76851903 -0.75793673]]\n",
            "\n",
            " [[ 0.50529115  0.          1.01058231]\n",
            "  [-0.50529115  0.50529115  0.        ]\n",
            "  [ 1.51587346  2.02116461  1.01058231]\n",
            "  [-1.01058231 -0.50529115 -1.51587346]]\n",
            "\n",
            " [[ 0.25264558  0.75793673 -0.25264558]\n",
            "  [-0.25264558 -0.75793673  0.25264558]\n",
            "  [ 0.75793673  1.26322788  1.76851903]\n",
            "  [-1.26322788 -1.76851903 -0.75793673]]]\n"
          ]
        }
      ]
    },
    {
      "cell_type": "code",
      "source": [
        "#  Exponential family ufuncs\n",
        "exp_normalized = np.exp(normalized)\n",
        "expm1_normalized = np.expm1(normalized)\n",
        "\n",
        "# To safely apply logs, shift normalized data to positive range:\n",
        "log_input = normalized + 5  # shift by +5 to avoid log of <=0\n",
        "log_normalized = np.log(log_input)\n",
        "log10_normalized = np.log10(log_input)\n",
        "log2_normalized = np.log2(log_input)\n",
        "\n",
        "print(\"exp_normalized shape:\", exp_normalized.shape, \"first row farm0 panel0:\", exp_normalized[0,0])\n",
        "print(\"log_normalized shape:\", log_normalized.shape, \"first row farm0 panel0:\", log_normalized[0,0])\n",
        "\n",
        "#  Trigonometric ufuncs\n",
        "sin_normalized = np.sin(normalized)\n",
        "cos_normalized = np.cos(normalized)\n",
        "tan_normalized = np.tan(normalized)\n",
        "\n",
        "# arcsin and arccos require inputs in [-1, 1], so clip:\n",
        "clipped = np.clip(normalized, -1, 1)\n",
        "arcsin_normalized = np.arcsin(clipped)\n",
        "arccos_normalized = np.arccos(clipped)\n",
        "arctan_normalized = np.arctan(normalized)\n",
        "\n",
        "# Convert radians to degrees and vice versa (use normalized as degrees input):\n",
        "degrees_normalized = np.degrees(normalized)\n",
        "radians_normalized = np.radians(normalized)\n",
        "\n",
        "print(\"sin_normalized first row:\", sin_normalized[0,0])\n",
        "print(\"arcsin_normalized first row:\", arcsin_normalized[0,0])\n",
        "print(\"degrees_normalized first row:\", degrees_normalized[0,0])\n",
        "\n",
        "#  Rounding ufuncs\n",
        "round_normalized = np.round(normalized)\n",
        "floor_normalized = np.floor(normalized)\n",
        "ceil_normalized = np.ceil(normalized)\n",
        "trunc_normalized = np.trunc(normalized)\n",
        "\n",
        "print(\"round_normalized first row:\", round_normalized[0,0])\n",
        "print(\"floor_normalized first row:\", floor_normalized[0,0])\n",
        "\n",
        "#  Comparison & logical ufuncs\n",
        "high_output = production_all > 20\n",
        "\n",
        "# even_hours_mask shape (3,), broadcast over hours dimension (axis=2)\n",
        "even_hours_mask = np.array([True, False, True])\n",
        "even_hours_mask_3d = even_hours_mask[None, None, :]  # shape (1,1,3) broadcast\n",
        "\n",
        "high_and_even = np.logical_and(high_output, even_hours_mask_3d)\n",
        "high_or_even = np.logical_or(high_output, even_hours_mask_3d)\n",
        "not_high = np.logical_not(high_output)\n",
        "high_xor_even = np.logical_xor(high_output, even_hours_mask_3d)\n",
        "\n",
        "print(\"high_and_even example farm 1:\\n\", high_and_even[1])\n",
        "\n",
        "# Comparison ufunc examples:\n",
        "greater_equal_20 = np.greater_equal(production_all, 20)\n",
        "less_15 = np.less(production_all, 15)\n",
        "print(\"greater_equal_20 shape:\", greater_equal_20.shape)\n",
        "\n",
        "#  Bitwise ufuncs on integer arrays\n",
        "alerts = np.array([[1,0,1],\n",
        "                   [0,0,1],\n",
        "                   [1,1,0],\n",
        "                   [0,1,0]])\n",
        "\n",
        "# Repeat for 3 farms → shape (3,4,3)\n",
        "alerts_all = np.tile(alerts, (3,1,1))\n",
        "\n",
        "bitwise_and = np.bitwise_and(alerts_all, 1)  # just identity here\n",
        "bitwise_or = np.bitwise_or(alerts_all, 1)    # all ones\n",
        "bitwise_invert = np.bitwise_not(alerts_all) # invert bits\n",
        "\n",
        "print(\"bitwise_and farm 0:\\n\", bitwise_and[0])\n",
        "print(\"bitwise_invert farm 0:\\n\", bitwise_invert[0])\n",
        "\n",
        "#  Arithmetic ufuncs again on normalized\n",
        "added = np.add(normalized, 2)\n",
        "subtracted = np.subtract(normalized, 1)\n",
        "multiplied = np.multiply(normalized, 3)\n",
        "divided = np.divide(normalized, 2)\n",
        "powered = np.power(normalized, 2)\n",
        "modulus = np.mod(normalized, 1)  # fractional part\n",
        "\n",
        "print(\"added first row:\", added[0,0])\n",
        "\n",
        "#  Aggregations over ufunc outputs\n",
        "sum_exp = np.sum(exp_normalized)\n",
        "mean_sin = np.mean(sin_normalized)\n",
        "\n",
        "print(\"Sum of exp_normalized:\", sum_exp)\n",
        "print(\"Mean of sin_normalized:\", mean_sin)\n"
      ],
      "metadata": {
        "colab": {
          "base_uri": "https://localhost:8080/"
        },
        "id": "ja305EJ015Ev",
        "outputId": "9995845d-c9cd-498e-f9ad-41d89360dadb"
      },
      "execution_count": 117,
      "outputs": [
        {
          "output_type": "stream",
          "name": "stdout",
          "text": [
            "exp_normalized shape: (3, 4, 3) first row farm0 panel0: [0.77674313 2.13386893 1.2874269 ]\n",
            "log_normalized shape: (3, 4, 3) first row farm0 panel0: [1.5575875  1.7505792  1.65873187]\n",
            "sin_normalized first row: [-0.24996642  0.68742445  0.24996642]\n",
            "arcsin_normalized first row: [-0.25541356  0.86014434  0.25541356]\n",
            "degrees_normalized first row: [-14.47552524  43.42657571  14.47552524]\n",
            "round_normalized first row: [-0.  1.  0.]\n",
            "floor_normalized first row: [-1.  0.  0.]\n",
            "high_and_even example farm 1:\n",
            " [[ True False  True]\n",
            " [False False False]\n",
            " [ True False  True]\n",
            " [False False False]]\n",
            "greater_equal_20 shape: (3, 4, 3)\n",
            "bitwise_and farm 0:\n",
            " [[1 0 1]\n",
            " [0 0 1]\n",
            " [1 1 0]\n",
            " [0 1 0]]\n",
            "bitwise_invert farm 0:\n",
            " [[-2 -1 -2]\n",
            " [-1 -1 -2]\n",
            " [-2 -2 -1]\n",
            " [-1 -2 -1]]\n",
            "added first row: [1.74735442 2.75793673 2.25264558]\n",
            "Sum of exp_normalized: 63.071430863729034\n",
            "Mean of sin_normalized: 0.04853967380227196\n"
          ]
        }
      ]
    },
    {
      "cell_type": "code",
      "source": [
        "arr=np.array([1,2,3,4,5,6])\n",
        "reshaped=arr.reshape(2,3)\n",
        "print(reshaped)"
      ],
      "metadata": {
        "colab": {
          "base_uri": "https://localhost:8080/"
        },
        "id": "G56fLGRo2O7q",
        "outputId": "b7aa2e26-0a89-4aec-e72c-fb61207a3646"
      },
      "execution_count": 116,
      "outputs": [
        {
          "output_type": "stream",
          "name": "stdout",
          "text": [
            "[[1 2 3]\n",
            " [4 5 6]]\n"
          ]
        }
      ]
    },
    {
      "cell_type": "markdown",
      "source": [
        "Stacking and Splitting"
      ],
      "metadata": {
        "id": "cXKsFQsJ35qy"
      }
    },
    {
      "cell_type": "code",
      "source": [
        "a=np.array([[1,2,3],[8,9,0]])\n",
        "b=np.array([[4,5,6],[12,11,10]])\n",
        "\n",
        "#vertical stack\n",
        "print(np.vstack((a,b)))\n",
        "\n",
        "#horizontal stack\n",
        "print(np.hstack((a,b)))\n",
        "\n",
        "#splitting\n",
        "arr=np.array([1,2,3,4,5,6])\n",
        "print(np.array_split(arr,3))"
      ],
      "metadata": {
        "colab": {
          "base_uri": "https://localhost:8080/"
        },
        "id": "3MPPWW9N33Ca",
        "outputId": "89dcb607-757d-4075-a206-49bb9a5a4eda"
      },
      "execution_count": 121,
      "outputs": [
        {
          "output_type": "stream",
          "name": "stdout",
          "text": [
            "[[ 1  2  3]\n",
            " [ 8  9  0]\n",
            " [ 4  5  6]\n",
            " [12 11 10]]\n",
            "[[ 1  2  3  4  5  6]\n",
            " [ 8  9  0 12 11 10]]\n",
            "[array([1, 2]), array([3, 4]), array([5, 6])]\n"
          ]
        }
      ]
    },
    {
      "cell_type": "markdown",
      "source": [
        "Advanced Indexing\n"
      ],
      "metadata": {
        "id": "_BPrq3_n5eEq"
      }
    },
    {
      "cell_type": "code",
      "source": [
        "#a.Boolean indexing\n",
        "arr=np.array([1,2,3,4,5])\n",
        "print(arr[arr>3])\n",
        "\n",
        "#b.fancy indexing\n",
        "indices=[0,2]\n",
        "print(arr[indices])"
      ],
      "metadata": {
        "colab": {
          "base_uri": "https://localhost:8080/"
        },
        "id": "f79jx8Ij5ksq",
        "outputId": "65310222-ead4-4b30-91e9-4f51909cf89f"
      },
      "execution_count": 124,
      "outputs": [
        {
          "output_type": "stream",
          "name": "stdout",
          "text": [
            "[4 5]\n",
            "[1 3]\n"
          ]
        }
      ]
    },
    {
      "cell_type": "markdown",
      "source": [
        "Copy vs View"
      ],
      "metadata": {
        "id": "gXFpb8uD6EX6"
      }
    },
    {
      "cell_type": "code",
      "source": [
        "#View shares memory (shallow copy)\n",
        "arr=np.array([1,2,3])\n",
        "view=arr.view()\n",
        "view[0]=10\n",
        "print(arr)\n",
        "\n",
        "#copy does not share memory (deep copy)\n",
        "copy=arr.copy()\n",
        "copy[0]=11\n",
        "print(arr)"
      ],
      "metadata": {
        "colab": {
          "base_uri": "https://localhost:8080/"
        },
        "id": "g-XeMRP16D7h",
        "outputId": "c605d13d-7bcf-44d0-f5eb-6c29e9b97369"
      },
      "execution_count": 126,
      "outputs": [
        {
          "output_type": "stream",
          "name": "stdout",
          "text": [
            "[10  2  3]\n",
            "[10  2  3]\n"
          ]
        }
      ]
    },
    {
      "cell_type": "markdown",
      "source": [
        "Saving and Loading"
      ],
      "metadata": {
        "id": "lKll999y7GEU"
      }
    },
    {
      "cell_type": "code",
      "source": [
        "#a.Save to a file\n",
        "arr=np.array([1,2,3])\n",
        "np.save(\"array.npy\",arr)\n",
        "\n",
        "#Load from a file\n",
        "loaded_arr=np.load(\"array.npy\")\n",
        "print(loaded_arr)"
      ],
      "metadata": {
        "colab": {
          "base_uri": "https://localhost:8080/"
        },
        "id": "n4LzZk0h7Iqb",
        "outputId": "899a1b74-9ce1-4d7d-e878-7374a6f24815"
      },
      "execution_count": 129,
      "outputs": [
        {
          "output_type": "stream",
          "name": "stdout",
          "text": [
            "[1 2 3]\n"
          ]
        }
      ]
    },
    {
      "cell_type": "markdown",
      "source": [
        "TasksArray Creation\n",
        "Create a 1D array of numbers from 10 to 50.\n",
        "Create a 3x3 array of random numbers between 0 and 1.\n",
        "Array Attributes\n",
        "Find the shape, size, and data type of the array you created in the previous task.\n",
        "Basic Operations\n",
        "Add 5 to every element of a 1D array.\n",
        "Multiply two 2D arrays element-wise.\n",
        "Indexing and Slicing\n",
        "Create a 5x5 array of integers from 1 to 25. Extract:\n",
        "The first row.\n",
        "The last column.\n",
        "A subarray of the first three rows and first two columns.\n",
        "Aggregation\n",
        "Create a 10-element array of random integers between 10 and 100. Find:\n",
        "The maximum value.\n",
        "The minimum value.\n",
        "The mean and standard deviation.\n",
        "Reshaping\n",
        "Convert a 1D array of numbers from 1 to 12 into a 3x4 matrix.\n",
        "Broadcasting\n",
        "Create a 3x3 matrix of ones. Add a 1D array [1, 2, 3] to each row.\n",
        "Filtering\n",
        "Create a 1D array of random integers between 1 and 50. Extract all elements that are divisible by 5.\n",
        "Matrix Multiplication\n",
        "Create two 2x2 matrices and perform matrix multiplication.\n",
        "Advanced Indexing\n",
        "Given a 4x4 array, use fancy indexing to extract the diagonal elements."
      ],
      "metadata": {
        "id": "u9FSHzNc8bDD"
      }
    },
    {
      "cell_type": "code",
      "source": [
        "arr_1d=np.arange(10,51)\n",
        "arr_random=np.random.random((3,3))\n",
        "print(arr_1d,arr_random,sep=\"\\n\")"
      ],
      "metadata": {
        "colab": {
          "base_uri": "https://localhost:8080/"
        },
        "id": "oVfI_Bao8b-_",
        "outputId": "5446b41f-a5ab-49e1-90cd-3cc468e11fea"
      },
      "execution_count": 131,
      "outputs": [
        {
          "output_type": "stream",
          "name": "stdout",
          "text": [
            "[10 11 12 13 14 15 16 17 18 19 20 21 22 23 24 25 26 27 28 29 30 31 32 33\n",
            " 34 35 36 37 38 39 40 41 42 43 44 45 46 47 48 49 50]\n",
            "[[0.23217761 0.54487586 0.85589625]\n",
            " [0.42201201 0.65803271 0.93426482]\n",
            " [0.0997678  0.46818733 0.19848825]]\n"
          ]
        }
      ]
    },
    {
      "cell_type": "code",
      "source": [
        "print(\"Shape of arr_1d:\",arr_1d.shape)\n",
        "print(\"Size of arr_1d:\",arr_1d.size)\n",
        "print(\"Data Type of arr_1d:\",arr_1d.dtype)\n",
        "print(\"Shape of arr_random:\",arr_random.shape)\n",
        "print(\"Size of arr_random:\",arr_random.size)\n",
        "print(\"Data Type of arr_random:\",arr_random.dtype)"
      ],
      "metadata": {
        "colab": {
          "base_uri": "https://localhost:8080/"
        },
        "id": "QWT8cPts9CVz",
        "outputId": "48895f67-84bd-4455-c3c1-adcaa8af4a4a"
      },
      "execution_count": 132,
      "outputs": [
        {
          "output_type": "stream",
          "name": "stdout",
          "text": [
            "Shape of arr_1d: (41,)\n",
            "Size of arr_1d: 41\n",
            "Data Type of arr_1d: int64\n",
            "Shape of arr_random: (3, 3)\n",
            "Size of arr_random: 9\n",
            "Data Type of arr_random: float64\n"
          ]
        }
      ]
    },
    {
      "cell_type": "code",
      "source": [
        "updated_arr_1d=np.add(arr_1d,5)\n",
        "print(updated_arr_1d)\n",
        "arr1=np.array([[1,2,3],[4,5,6]])\n",
        "arr2=np.array([[7,8,9],[10,11,12]])\n",
        "ele_wise_mul=np.multiply(arr1,arr2)\n",
        "print(ele_wise_mul)"
      ],
      "metadata": {
        "colab": {
          "base_uri": "https://localhost:8080/"
        },
        "id": "gRMGLcSQ9yxa",
        "outputId": "8b161336-dd36-4094-f9c6-cc10bfb51af4"
      },
      "execution_count": 135,
      "outputs": [
        {
          "output_type": "stream",
          "name": "stdout",
          "text": [
            "[15 16 17 18 19 20 21 22 23 24 25 26 27 28 29 30 31 32 33 34 35 36 37 38\n",
            " 39 40 41 42 43 44 45 46 47 48 49 50 51 52 53 54 55]\n",
            "[[ 7 16 27]\n",
            " [40 55 72]]\n"
          ]
        }
      ]
    },
    {
      "cell_type": "code",
      "source": [
        "arr_5d=np.array(np.arange(1,26)).reshape(5,5)\n",
        "print(arr_5d)\n",
        "print(\"First row:\",arr_5d[0,])\n",
        "print(\"Last Column:\",arr_5d[:,-1])\n",
        "print(\"subarray of the first three rows and first two columns:\\n\",arr_5d[0:3,0:2])"
      ],
      "metadata": {
        "colab": {
          "base_uri": "https://localhost:8080/"
        },
        "id": "s5REOMw--4kq",
        "outputId": "eddf0616-7760-42e5-ac8b-76dc87f702e5"
      },
      "execution_count": 155,
      "outputs": [
        {
          "output_type": "stream",
          "name": "stdout",
          "text": [
            "[[ 1  2  3  4  5]\n",
            " [ 6  7  8  9 10]\n",
            " [11 12 13 14 15]\n",
            " [16 17 18 19 20]\n",
            " [21 22 23 24 25]]\n",
            "First row: [1 2 3 4 5]\n",
            "Last Column: [ 5 10 15 20 25]\n",
            "subarray of the first three rows and first two columns: [[ 1  2]\n",
            " [ 6  7]\n",
            " [11 12]]\n"
          ]
        }
      ]
    },
    {
      "cell_type": "code",
      "source": [
        "arr_10=np.random.randint(10,101,10)\n",
        "print(\"Maximum Value:\",np.max(arr_10))\n",
        "print(\"Minimum Value:\",np.min(arr_10))\n",
        "print(\"Mean and Std:\",np.mean(arr_10),\" \",np.std(arr_10))"
      ],
      "metadata": {
        "colab": {
          "base_uri": "https://localhost:8080/"
        },
        "id": "Eb76aDazBJzo",
        "outputId": "6a9b68a8-a55b-4473-b8a6-711a016dd057"
      },
      "execution_count": 157,
      "outputs": [
        {
          "output_type": "stream",
          "name": "stdout",
          "text": [
            "Maximum Value: 91\n",
            "Minimum Value: 25\n",
            "Mean and Std: 55.0   25.51078203426935\n"
          ]
        }
      ]
    },
    {
      "cell_type": "code",
      "source": [
        "arr=np.arange(1,13)\n",
        "reshaped_arr=arr.reshape(3,4)\n",
        "print(reshaped_arr)"
      ],
      "metadata": {
        "colab": {
          "base_uri": "https://localhost:8080/"
        },
        "id": "_ZaMJpe8CDyJ",
        "outputId": "e14ae5de-e1b2-48a7-c6be-125ffc6dfcfa"
      },
      "execution_count": 158,
      "outputs": [
        {
          "output_type": "stream",
          "name": "stdout",
          "text": [
            "[[ 1  2  3  4]\n",
            " [ 5  6  7  8]\n",
            " [ 9 10 11 12]]\n"
          ]
        }
      ]
    },
    {
      "cell_type": "code",
      "source": [
        "arr_ones=np.ones((3,3))\n",
        "arr=np.array([1,2,3])\n",
        "arr=np.add(arr_ones,arr)\n",
        "print(arr)"
      ],
      "metadata": {
        "colab": {
          "base_uri": "https://localhost:8080/"
        },
        "id": "myNCu6iGCXI8",
        "outputId": "40f5323f-0e4c-461c-9736-d353204a3ccc"
      },
      "execution_count": 161,
      "outputs": [
        {
          "output_type": "stream",
          "name": "stdout",
          "text": [
            "[[2. 3. 4.]\n",
            " [2. 3. 4.]\n",
            " [2. 3. 4.]]\n"
          ]
        }
      ]
    },
    {
      "cell_type": "code",
      "source": [
        "arr=np.random.randint(1,51,10)\n",
        "print(arr[arr%5==0])"
      ],
      "metadata": {
        "colab": {
          "base_uri": "https://localhost:8080/"
        },
        "id": "giATsrxOC00I",
        "outputId": "13405408-8bbf-48a0-dfba-bf9db3de50d7"
      },
      "execution_count": 168,
      "outputs": [
        {
          "output_type": "stream",
          "name": "stdout",
          "text": [
            "[30 15 50 40]\n"
          ]
        }
      ]
    },
    {
      "cell_type": "code",
      "source": [
        "arr1=np.array([[1,2,3],[4,5,6]])\n",
        "arr2=np.array([[7,8,9],[10,11,12],[13,14,15]])\n",
        "arr3=np.dot(arr1,arr2)\n",
        "print(arr3)"
      ],
      "metadata": {
        "colab": {
          "base_uri": "https://localhost:8080/"
        },
        "id": "tuVXBUyGDiKB",
        "outputId": "5e121e70-57df-44cf-9000-c4f08bd1147f"
      },
      "execution_count": 170,
      "outputs": [
        {
          "output_type": "stream",
          "name": "stdout",
          "text": [
            "[[ 66  72  78]\n",
            " [156 171 186]]\n"
          ]
        }
      ]
    },
    {
      "cell_type": "code",
      "source": [
        "arr_4d=np.random.randint(1,25,16).reshape(4,4)\n",
        "print(arr_4d)\n",
        "indices=[0,1,2,3]\n",
        "print(\"Diagonal Elements:\",arr_4d[indices,indices])"
      ],
      "metadata": {
        "colab": {
          "base_uri": "https://localhost:8080/"
        },
        "id": "63vKPV0lEARR",
        "outputId": "4fc1863d-0066-47cb-fde3-532889f6cff8"
      },
      "execution_count": 187,
      "outputs": [
        {
          "output_type": "stream",
          "name": "stdout",
          "text": [
            "[[21 21  7 15]\n",
            " [ 2 20 18 14]\n",
            " [11 13  4  7]\n",
            " [15  2 10 22]]\n",
            "Diagonal Elements: [21 20  4 22]\n"
          ]
        }
      ]
    }
  ]
}